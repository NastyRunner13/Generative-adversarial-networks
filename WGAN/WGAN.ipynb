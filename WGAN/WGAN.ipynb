{
  "cells": [
    {
      "cell_type": "code",
      "execution_count": 36,
      "metadata": {
        "id": "3-NEjxqj3swW"
      },
      "outputs": [],
      "source": [
        "import torch\n",
        "import torch.nn as nn"
      ]
    },
    {
      "cell_type": "code",
      "execution_count": 37,
      "metadata": {
        "id": "hURaHczR30Fu"
      },
      "outputs": [],
      "source": [
        "class Discriminator(nn.Module):\n",
        "    def __init__(self, channels_img, features_d):\n",
        "        super(Discriminator, self).__init__()\n",
        "        self.disc = nn.Sequential(\n",
        "            # input: N x channels_img x 64 x 64\n",
        "            nn.Conv2d(channels_img, features_d, kernel_size=4, stride=2, padding=1),\n",
        "            nn.LeakyReLU(0.2),\n",
        "            # _block(in_channels, out_channels, kernel_size, stride, padding)\n",
        "            self._block(features_d, features_d * 2, 4, 2, 1),\n",
        "            self._block(features_d * 2, features_d * 4, 4, 2, 1),\n",
        "            self._block(features_d * 4, features_d * 8, 4, 2, 1),\n",
        "            # After all _block img output is 4x4 (Conv2d below makes into 1x1)\n",
        "            nn.Conv2d(features_d * 8, 1, kernel_size=4, stride=2, padding=0),\n",
        "        )\n",
        "\n",
        "    def _block(self, in_channels, out_channels, kernel_size, stride, padding):\n",
        "        return nn.Sequential(\n",
        "            nn.Conv2d(\n",
        "                in_channels,\n",
        "                out_channels,\n",
        "                kernel_size,\n",
        "                stride,\n",
        "                padding,\n",
        "                bias=False,\n",
        "            ),\n",
        "            nn.InstanceNorm2d(out_channels, affine=True),\n",
        "            nn.LeakyReLU(0.2),\n",
        "        )\n",
        "\n",
        "    def forward(self, x):\n",
        "        return self.disc(x)"
      ]
    },
    {
      "cell_type": "code",
      "execution_count": 38,
      "metadata": {
        "id": "vL5f1S0l5tZn"
      },
      "outputs": [],
      "source": [
        "import torch.nn as nn\n",
        "\n",
        "class Generator(nn.Module):\n",
        "    def __init__(self, z_dim, channels_img, features_g):\n",
        "        super(Generator, self).__init__()\n",
        "        self.gen = nn.Sequential(\n",
        "            self._block(z_dim, features_g * 16, 4, 1, 0),  # 1x1 -> 4x4\n",
        "            self._block(features_g * 16, features_g * 8, 4, 2, 1),  # 4x4 -> 8x8\n",
        "            self._block(features_g * 8, features_g * 4, 4, 2, 1),  # 8x8 -> 16x16\n",
        "            self._block(features_g * 4, features_g * 2, 4, 2, 1),  # 16x16 -> 32x32\n",
        "            nn.ConvTranspose2d(\n",
        "                features_g * 2, channels_img, kernel_size=4, stride=2, padding=1\n",
        "            ),  # 32x32 -> 64x64\n",
        "            nn.ConvTranspose2d(\n",
        "                channels_img, channels_img, kernel_size=(2, 5), stride=(1, 2), padding=(0, 1)\n",
        "            ),  # 64x64 -> 78x64\n",
        "            nn.Tanh(),\n",
        "        )\n",
        "\n",
        "    def _block(self, in_channels, out_channels, kernel_size, stride, padding):\n",
        "        return nn.Sequential(\n",
        "            nn.ConvTranspose2d(\n",
        "                in_channels, out_channels, kernel_size, stride, padding, bias=False\n",
        "            ),\n",
        "            nn.BatchNorm2d(out_channels),\n",
        "            nn.ReLU(),\n",
        "        )\n",
        "\n",
        "    def forward(self, x):\n",
        "        return self.gen(x)"
      ]
    },
    {
      "cell_type": "code",
      "execution_count": 39,
      "metadata": {
        "id": "hehW9kA8timU"
      },
      "outputs": [],
      "source": [
        "def initialize_weights(model):\n",
        "    # Initializes weights according to the DCGAN paper\n",
        "    for m in model.modules():\n",
        "        if isinstance(m, (nn.Conv2d, nn.ConvTranspose2d, nn.BatchNorm2d)):\n",
        "            nn.init.normal_(m.weight.data, 0.0, 0.02)"
      ]
    },
    {
      "cell_type": "code",
      "execution_count": 40,
      "metadata": {
        "id": "yNujD273uVbH"
      },
      "outputs": [],
      "source": [
        "def test():\n",
        "  N, in_channels, H, W = 8, 3, 64, 64\n",
        "  z_dim = 100\n",
        "  x = torch.randn((N, in_channels, H, W))\n",
        "  disc = Discriminator(in_channels, 8)\n",
        "  initialize_weights(disc)\n",
        "  assert disc(x).shape == (N, 1, 1, 1)\n",
        "  gen = Generator(z_dim, in_channels, 8)\n",
        "  initialize_weights(gen)\n",
        "  z = torch.randn((N, z_dim, 1, 1))\n",
        "  assert gen(z).shape == (N, in_channels, H, W)"
      ]
    },
    {
      "cell_type": "code",
      "execution_count": 41,
      "metadata": {
        "id": "9Kkn46UJu9Le"
      },
      "outputs": [],
      "source": [
        "import torch.optim as optim\n",
        "import torchvision\n",
        "import torchvision.datasets as datasets\n",
        "import torchvision.transforms as transforms\n",
        "from torch.utils.data import DataLoader\n",
        "from torch.utils.tensorboard import SummaryWriter\n",
        "from tqdm import tqdm"
      ]
    },
    {
      "cell_type": "code",
      "execution_count": 42,
      "metadata": {
        "colab": {
          "base_uri": "https://localhost:8080/"
        },
        "id": "U4eoZTXFvyY6",
        "outputId": "b9e21c78-3b7a-47bc-b611-d3c9049b77ad"
      },
      "outputs": [
        {
          "data": {
            "text/plain": [
              "device(type='cuda')"
            ]
          },
          "execution_count": 42,
          "metadata": {},
          "output_type": "execute_result"
        }
      ],
      "source": [
        "device = torch.device(\"cuda\" if torch.cuda.is_available() else \"cpu\")\n",
        "device"
      ]
    },
    {
      "cell_type": "code",
      "execution_count": 43,
      "metadata": {
        "id": "7Z3hCdSnv7SZ"
      },
      "outputs": [],
      "source": [
        "LEARNING_RATE = 1e-5\n",
        "BATCH_SIZE = 64\n",
        "IMAGE_SIZE = 64\n",
        "CHANNELS_IMG = 1\n",
        "Z_DIM = 100\n",
        "FEATURES_DISC = 64\n",
        "FEATURES_GEN = 64\n",
        "NUM_EPOCHS = 2\n",
        "CRITIC_ITERATIONS = 5\n",
        "LAMBDA_GP = 10"
      ]
    },
    {
      "cell_type": "code",
      "execution_count": 44,
      "metadata": {
        "id": "xtvIGbX0wUu-"
      },
      "outputs": [],
      "source": [
        "transforms = transforms.Compose(\n",
        "    [\n",
        "        transforms.Resize(IMAGE_SIZE),\n",
        "        transforms.ToTensor(),\n",
        "        transforms.Normalize(\n",
        "            [0.5 for _ in range(CHANNELS_IMG)], [0.5 for _ in range(CHANNELS_IMG)]\n",
        "        ),\n",
        "    ]\n",
        ")"
      ]
    },
    {
      "cell_type": "code",
      "execution_count": 45,
      "metadata": {
        "colab": {
          "base_uri": "https://localhost:8080/"
        },
        "id": "Xyg1fQFKwnqD",
        "outputId": "bcb75bfd-070b-4a20-e989-31f6b0b341dd"
      },
      "outputs": [],
      "source": [
        "dataset = datasets.MNIST(root = \"dataset/\", train = True, transform = transforms, download = True)\n",
        "# dataset = datasets.ImageFolder(root=\"C:/Users/princ/Desktop/Deep Learning/GAN'S/DCGAN/celeb_dataset\", transform=transforms)\n",
        "loader = DataLoader(dataset, batch_size = BATCH_SIZE, shuffle = True)"
      ]
    },
    {
      "cell_type": "code",
      "execution_count": 46,
      "metadata": {
        "id": "hq-DpbPZySUC"
      },
      "outputs": [],
      "source": [
        "gen = Generator(Z_DIM, CHANNELS_IMG, FEATURES_GEN).to(device)\n",
        "disc = Discriminator(CHANNELS_IMG, FEATURES_DISC).to(device)\n",
        "initialize_weights(gen)\n",
        "initialize_weights(disc)"
      ]
    },
    {
      "cell_type": "code",
      "execution_count": 47,
      "metadata": {
        "id": "BPdALgSNyShU"
      },
      "outputs": [],
      "source": [
        "opt_gen = optim.Adam(gen.parameters(), lr = LEARNING_RATE, betas=(0.0, 0.9))\n",
        "opt_disc = optim.Adam(disc.parameters(), lr = LEARNING_RATE, betas=(0.0, 0.9))"
      ]
    },
    {
      "cell_type": "code",
      "execution_count": 48,
      "metadata": {
        "id": "IWr2jr6LybTz"
      },
      "outputs": [],
      "source": [
        "fixed_noise = torch.randn(32, Z_DIM, 1, 1).to(device)\n",
        "writer_fake = SummaryWriter(f\"runs/WGAN/fake\")\n",
        "writer_real = SummaryWriter(f\"runs/WGAN/real\")\n",
        "step = 0"
      ]
    },
    {
      "cell_type": "code",
      "execution_count": 49,
      "metadata": {},
      "outputs": [],
      "source": [
        "def gradient_penalty(disc, real, fake, device=\"cpu\"):\n",
        "    BATCH_SIZE, C, H, W = real.shape\n",
        "    alpha = torch.rand((BATCH_SIZE, 1, 1, 1)).repeat(1, C, H, W).to(device)\n",
        "    \n",
        "    # # Print shapes for debugging\n",
        "    # print(f\"real shape: {real.shape}, fake shape: {fake.shape}, alpha shape: {alpha.shape}\")\n",
        "    \n",
        "    interpolated_images = real * alpha + fake * (1 - alpha)\n",
        "    \n",
        "    # Print shape of interpolated images\n",
        "    # print(f\"interpolated_images shape: {interpolated_images.shape}\")\n",
        "    mixed_scores = disc(interpolated_images)\n",
        "\n",
        "    # Take the gradient of the scores with respect to the images\n",
        "    gradient = torch.autograd.grad(\n",
        "        inputs=interpolated_images,\n",
        "        outputs=mixed_scores,\n",
        "        grad_outputs=torch.ones_like(mixed_scores),\n",
        "        create_graph=True,\n",
        "        retain_graph=True,\n",
        "    )[0]\n",
        "    gradient = gradient.view(gradient.shape[0], -1)\n",
        "    gradient_norm = gradient.norm(2, dim=1)\n",
        "    gradient_penalty = torch.mean((gradient_norm - 1) ** 2)\n",
        "    return gradient_penalty"
      ]
    },
    {
      "cell_type": "code",
      "execution_count": 50,
      "metadata": {
        "colab": {
          "base_uri": "https://localhost:8080/"
        },
        "id": "ftjBntC2yn8a",
        "outputId": "16b1c667-d606-4053-9b0a-bc08ab532ace"
      },
      "outputs": [
        {
          "data": {
            "text/plain": [
              "Discriminator(\n",
              "  (disc): Sequential(\n",
              "    (0): Conv2d(1, 64, kernel_size=(4, 4), stride=(2, 2), padding=(1, 1))\n",
              "    (1): LeakyReLU(negative_slope=0.2)\n",
              "    (2): Sequential(\n",
              "      (0): Conv2d(64, 128, kernel_size=(4, 4), stride=(2, 2), padding=(1, 1), bias=False)\n",
              "      (1): InstanceNorm2d(128, eps=1e-05, momentum=0.1, affine=True, track_running_stats=False)\n",
              "      (2): LeakyReLU(negative_slope=0.2)\n",
              "    )\n",
              "    (3): Sequential(\n",
              "      (0): Conv2d(128, 256, kernel_size=(4, 4), stride=(2, 2), padding=(1, 1), bias=False)\n",
              "      (1): InstanceNorm2d(256, eps=1e-05, momentum=0.1, affine=True, track_running_stats=False)\n",
              "      (2): LeakyReLU(negative_slope=0.2)\n",
              "    )\n",
              "    (4): Sequential(\n",
              "      (0): Conv2d(256, 512, kernel_size=(4, 4), stride=(2, 2), padding=(1, 1), bias=False)\n",
              "      (1): InstanceNorm2d(512, eps=1e-05, momentum=0.1, affine=True, track_running_stats=False)\n",
              "      (2): LeakyReLU(negative_slope=0.2)\n",
              "    )\n",
              "    (5): Conv2d(512, 1, kernel_size=(4, 4), stride=(2, 2))\n",
              "  )\n",
              ")"
            ]
          },
          "execution_count": 50,
          "metadata": {},
          "output_type": "execute_result"
        }
      ],
      "source": [
        "gen.train()\n",
        "disc.train()"
      ]
    },
    {
      "cell_type": "code",
      "execution_count": 51,
      "metadata": {
        "colab": {
          "base_uri": "https://localhost:8080/"
        },
        "id": "rZ0f41Tpyw45",
        "outputId": "e1179510-fc4b-49e8-f0b7-f08a35f27460"
      },
      "outputs": [
        {
          "name": "stdout",
          "output_type": "stream",
          "text": [
            "Epoch [0/2] Batch 0/938 Loss D: 404.2479, loss G: -0.6013\n",
            "Epoch [0/2] Batch 100/938 Loss D: -96.5284, loss G: 52.1825\n",
            "Epoch [0/2] Batch 200/938 Loss D: -121.5974, loss G: 72.1163\n",
            "Epoch [0/2] Batch 300/938 Loss D: -133.1516, loss G: 83.5268\n",
            "Epoch [0/2] Batch 400/938 Loss D: -137.3414, loss G: 95.7015\n",
            "Epoch [0/2] Batch 500/938 Loss D: -137.8174, loss G: 105.3022\n",
            "Epoch [0/2] Batch 600/938 Loss D: -138.2807, loss G: 112.9258\n",
            "Epoch [0/2] Batch 700/938 Loss D: -138.8304, loss G: 118.2692\n",
            "Epoch [0/2] Batch 800/938 Loss D: -135.6711, loss G: 121.7909\n",
            "Epoch [0/2] Batch 900/938 Loss D: -136.1325, loss G: 124.5179\n"
          ]
        },
        {
          "ename": "RuntimeError",
          "evalue": "The size of tensor a (64) must match the size of tensor b (32) at non-singleton dimension 0",
          "output_type": "error",
          "traceback": [
            "\u001b[1;31m---------------------------------------------------------------------------\u001b[0m",
            "\u001b[1;31mRuntimeError\u001b[0m                              Traceback (most recent call last)",
            "Input \u001b[1;32mIn [51]\u001b[0m, in \u001b[0;36m<cell line: 3>\u001b[1;34m()\u001b[0m\n\u001b[0;32m     12\u001b[0m disc_real \u001b[38;5;241m=\u001b[39m disc(real)\u001b[38;5;241m.\u001b[39mreshape(\u001b[38;5;241m-\u001b[39m\u001b[38;5;241m1\u001b[39m)\n\u001b[0;32m     13\u001b[0m disc_fake \u001b[38;5;241m=\u001b[39m disc(fake)\u001b[38;5;241m.\u001b[39mreshape(\u001b[38;5;241m-\u001b[39m\u001b[38;5;241m1\u001b[39m)\n\u001b[1;32m---> 14\u001b[0m gp \u001b[38;5;241m=\u001b[39m \u001b[43mgradient_penalty\u001b[49m\u001b[43m(\u001b[49m\u001b[43mdisc\u001b[49m\u001b[43m,\u001b[49m\u001b[43m \u001b[49m\u001b[43mreal\u001b[49m\u001b[43m,\u001b[49m\u001b[43m \u001b[49m\u001b[43mfake\u001b[49m\u001b[43m,\u001b[49m\u001b[43m \u001b[49m\u001b[43mdevice\u001b[49m\u001b[38;5;241;43m=\u001b[39;49m\u001b[43mdevice\u001b[49m\u001b[43m)\u001b[49m\n\u001b[0;32m     15\u001b[0m loss_disc \u001b[38;5;241m=\u001b[39m (\n\u001b[0;32m     16\u001b[0m     \u001b[38;5;241m-\u001b[39m(torch\u001b[38;5;241m.\u001b[39mmean(disc_real) \u001b[38;5;241m-\u001b[39m torch\u001b[38;5;241m.\u001b[39mmean(disc_fake)) \u001b[38;5;241m+\u001b[39m LAMBDA_GP \u001b[38;5;241m*\u001b[39m gp\n\u001b[0;32m     17\u001b[0m )\n\u001b[0;32m     18\u001b[0m disc\u001b[38;5;241m.\u001b[39mzero_grad()\n",
            "Input \u001b[1;32mIn [49]\u001b[0m, in \u001b[0;36mgradient_penalty\u001b[1;34m(disc, real, fake, device)\u001b[0m\n\u001b[0;32m      3\u001b[0m alpha \u001b[38;5;241m=\u001b[39m torch\u001b[38;5;241m.\u001b[39mrand((BATCH_SIZE, \u001b[38;5;241m1\u001b[39m, \u001b[38;5;241m1\u001b[39m, \u001b[38;5;241m1\u001b[39m))\u001b[38;5;241m.\u001b[39mrepeat(\u001b[38;5;241m1\u001b[39m, C, H, W)\u001b[38;5;241m.\u001b[39mto(device)\n\u001b[0;32m      5\u001b[0m \u001b[38;5;66;03m# # Print shapes for debugging\u001b[39;00m\n\u001b[0;32m      6\u001b[0m \u001b[38;5;66;03m# print(f\"real shape: {real.shape}, fake shape: {fake.shape}, alpha shape: {alpha.shape}\")\u001b[39;00m\n\u001b[1;32m----> 8\u001b[0m interpolated_images \u001b[38;5;241m=\u001b[39m real \u001b[38;5;241m*\u001b[39m alpha \u001b[38;5;241m+\u001b[39m \u001b[43mfake\u001b[49m\u001b[43m \u001b[49m\u001b[38;5;241;43m*\u001b[39;49m\u001b[43m \u001b[49m\u001b[43m(\u001b[49m\u001b[38;5;241;43m1\u001b[39;49m\u001b[43m \u001b[49m\u001b[38;5;241;43m-\u001b[39;49m\u001b[43m \u001b[49m\u001b[43malpha\u001b[49m\u001b[43m)\u001b[49m\n\u001b[0;32m     10\u001b[0m \u001b[38;5;66;03m# Print shape of interpolated images\u001b[39;00m\n\u001b[0;32m     11\u001b[0m \u001b[38;5;66;03m# print(f\"interpolated_images shape: {interpolated_images.shape}\")\u001b[39;00m\n\u001b[0;32m     12\u001b[0m mixed_scores \u001b[38;5;241m=\u001b[39m disc(interpolated_images)\n",
            "\u001b[1;31mRuntimeError\u001b[0m: The size of tensor a (64) must match the size of tensor b (32) at non-singleton dimension 0"
          ]
        }
      ],
      "source": [
        "import torch.nn.functional as F\n",
        "\n",
        "for epoch in range(NUM_EPOCHS):\n",
        "    for batch_idx, (real, _) in enumerate(loader):\n",
        "        real = real.to(device)\n",
        "\n",
        "        # Train Discriminator\n",
        "        for _ in range(CRITIC_ITERATIONS):\n",
        "            noise = torch.randn((BATCH_SIZE, Z_DIM, 1, 1)).to(device)\n",
        "            fake = gen(noise)\n",
        "            fake = F.interpolate(fake, size=(real.shape[2], real.shape[3]), mode='bilinear', align_corners=False)\n",
        "            disc_real = disc(real).reshape(-1)\n",
        "            disc_fake = disc(fake).reshape(-1)\n",
        "            gp = gradient_penalty(disc, real, fake, device=device)\n",
        "            loss_disc = (\n",
        "                -(torch.mean(disc_real) - torch.mean(disc_fake)) + LAMBDA_GP * gp\n",
        "            )\n",
        "            disc.zero_grad()\n",
        "            loss_disc.backward(retain_graph=True)\n",
        "            opt_disc.step()\n",
        "\n",
        "        # Train Generator\n",
        "        noise = torch.randn((BATCH_SIZE, Z_DIM, 1, 1)).to(device)\n",
        "        fake = gen(noise)\n",
        "        fake = F.interpolate(fake, size=(real.shape[2], real.shape[3]), mode='bilinear', align_corners=False)\n",
        "        output = disc(fake).reshape(-1)\n",
        "        loss_gen = -torch.mean(output)\n",
        "        gen.zero_grad()\n",
        "        loss_gen.backward()\n",
        "        opt_gen.step()\n",
        "\n",
        "        if batch_idx % 100 == 0:\n",
        "            print(\n",
        "                f\"Epoch [{epoch}/{NUM_EPOCHS}] Batch {batch_idx}/{len(loader)} \"\n",
        "                f\"Loss D: {loss_disc:.4f}, loss G: {loss_gen:.4f}\"\n",
        "            )\n",
        "\n",
        "            with torch.no_grad():\n",
        "                fake = gen(fixed_noise)\n",
        "                fake = F.interpolate(fake, size=(real.shape[2], real.shape[3]), mode='bilinear', align_corners=False)\n",
        "                img_grid_fake = torchvision.utils.make_grid(fake, normalize=True)\n",
        "                img_grid_real = torchvision.utils.make_grid(real, normalize=True)\n",
        "                writer_fake.add_image(\n",
        "                    \"Fake Images\", img_grid_fake, global_step=step\n",
        "                )\n",
        "                writer_real.add_image(\n",
        "                    \"Real Images\", img_grid_real, global_step=step\n",
        "                )\n",
        "                step += 1"
      ]
    }
  ],
  "metadata": {
    "accelerator": "GPU",
    "colab": {
      "gpuType": "T4",
      "provenance": []
    },
    "kernelspec": {
      "display_name": "Python 3",
      "name": "python3"
    },
    "language_info": {
      "codemirror_mode": {
        "name": "ipython",
        "version": 3
      },
      "file_extension": ".py",
      "mimetype": "text/x-python",
      "name": "python",
      "nbconvert_exporter": "python",
      "pygments_lexer": "ipython3",
      "version": "3.10.6"
    }
  },
  "nbformat": 4,
  "nbformat_minor": 0
}
