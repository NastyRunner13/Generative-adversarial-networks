{
  "cells": [
    {
      "cell_type": "code",
      "execution_count": 4,
      "metadata": {
        "id": "3-NEjxqj3swW"
      },
      "outputs": [],
      "source": [
        "import torch\n",
        "import torch.nn as nn"
      ]
    },
    {
      "cell_type": "code",
      "execution_count": 5,
      "metadata": {
        "id": "hURaHczR30Fu"
      },
      "outputs": [],
      "source": [
        "class Discriminator(nn.Module):\n",
        "  def __init__(self, channels_img, features_d):\n",
        "    super(Discriminator, self).__init__()\n",
        "    self.disc = nn.Sequential(\n",
        "        nn.Conv2d(\n",
        "            channels_img, features_d, kernel_size=4, stride=2, padding=1\n",
        "        ),\n",
        "        nn.LeakyReLU(0.2),\n",
        "        self._block(features_d, features_d*2, 4, 2 ,1),\n",
        "        self._block(features_d*2, features_d*4, 4, 2 ,1),\n",
        "        self._block(features_d*4, features_d*8, 4, 2 ,1),\n",
        "        nn.Conv2d(features_d*8, 1, kernel_size=4, stride=2, padding=0),\n",
        "        nn.Sigmoid()\n",
        "    )\n",
        "\n",
        "  def _block(self, in_channels, out_channels, kernel_size, stride, padding):\n",
        "    return nn.Sequential(\n",
        "        nn.Conv2d(\n",
        "            in_channels,\n",
        "            out_channels,\n",
        "            kernel_size,\n",
        "            stride,\n",
        "            padding,\n",
        "            bias = False,\n",
        "        ),\n",
        "        nn.BatchNorm2d(out_channels),\n",
        "        nn.LeakyReLU(0.2),\n",
        "    )\n",
        "\n",
        "  def forward(self, x):\n",
        "    return self.disc(x)"
      ]
    },
    {
      "cell_type": "code",
      "execution_count": 6,
      "metadata": {
        "id": "vL5f1S0l5tZn"
      },
      "outputs": [],
      "source": [
        "class Generator(nn.Module):\n",
        "  def __init__(self, z_dim, channels_img, features_g):\n",
        "    super(Generator, self).__init__()\n",
        "    self.gen = nn.Sequential(\n",
        "        self._block(z_dim, features_g*16, 4, 1, 0),\n",
        "        self._block(features_g*16, features_g*8, 4, 2, 1),\n",
        "        self._block(features_g*8, features_g*4, 4, 2, 1),\n",
        "        self._block(features_g*4, features_g*2, 4, 2, 1),\n",
        "        nn.ConvTranspose2d(\n",
        "            features_g*2, channels_img, kernel_size=4, stride=2, padding=1\n",
        "        ),\n",
        "        nn.Tanh()\n",
        "    )\n",
        "\n",
        "  def _block(self, in_channels, out_channels, kernel_size, stride, padding):\n",
        "    return nn.Sequential(\n",
        "        nn.ConvTranspose2d(\n",
        "            in_channels,\n",
        "            out_channels,\n",
        "            kernel_size,\n",
        "            stride,\n",
        "            padding,\n",
        "            bias = False,\n",
        "        ),\n",
        "        nn.BatchNorm2d(out_channels),\n",
        "        nn.ReLU()\n",
        "    )\n",
        "\n",
        "  def forward(self, x):\n",
        "    return self.gen(x)"
      ]
    },
    {
      "cell_type": "code",
      "execution_count": 7,
      "metadata": {
        "id": "hehW9kA8timU"
      },
      "outputs": [],
      "source": [
        "def initialize_weights(model):\n",
        "  for m in model.modules():\n",
        "    if isinstance(m, (nn.Conv2d, nn.ConvTranspose2d, nn.BatchNorm2d)):\n",
        "      nn.init.normal_(m.weight.data, 0.0, 0.02)"
      ]
    },
    {
      "cell_type": "code",
      "execution_count": 8,
      "metadata": {
        "id": "yNujD273uVbH"
      },
      "outputs": [],
      "source": [
        "def test():\n",
        "  N, in_channels, H, W = 8, 3, 64, 64\n",
        "  z_dim = 100\n",
        "  x = torch.randn((N, in_channels, H, W))\n",
        "  disc = Discriminator(in_channels, 8)\n",
        "  initialize_weights(disc)\n",
        "  assert disc(x).shape == (N, 1, 1, 1)\n",
        "  gen = Generator(z_dim, in_channels, 8)\n",
        "  initialize_weights(gen)\n",
        "  z = torch.randn((N, z_dim, 1, 1))\n",
        "  assert gen(z).shape == (N, in_channels, H, W)"
      ]
    },
    {
      "cell_type": "code",
      "execution_count": 9,
      "metadata": {
        "id": "9Kkn46UJu9Le"
      },
      "outputs": [
        {
          "name": "stdout",
          "output_type": "stream",
          "text": [
            "WARNING:tensorflow:From c:\\Users\\princ\\AppData\\Local\\Programs\\Python\\Python310\\lib\\site-packages\\keras\\src\\losses.py:2976: The name tf.losses.sparse_softmax_cross_entropy is deprecated. Please use tf.compat.v1.losses.sparse_softmax_cross_entropy instead.\n",
            "\n"
          ]
        }
      ],
      "source": [
        "import torch.optim as optim\n",
        "import torchvision\n",
        "import torchvision.datasets as datasets\n",
        "import torchvision.transforms as transforms\n",
        "from torch.utils.data import DataLoader\n",
        "from torch.utils.tensorboard import SummaryWriter"
      ]
    },
    {
      "cell_type": "code",
      "execution_count": 10,
      "metadata": {
        "colab": {
          "base_uri": "https://localhost:8080/"
        },
        "id": "U4eoZTXFvyY6",
        "outputId": "b9e21c78-3b7a-47bc-b611-d3c9049b77ad"
      },
      "outputs": [
        {
          "data": {
            "text/plain": [
              "device(type='cuda')"
            ]
          },
          "execution_count": 10,
          "metadata": {},
          "output_type": "execute_result"
        }
      ],
      "source": [
        "device = torch.device(\"cuda\" if torch.cuda.is_available() else \"cpu\")\n",
        "device"
      ]
    },
    {
      "cell_type": "code",
      "execution_count": 11,
      "metadata": {
        "id": "7Z3hCdSnv7SZ"
      },
      "outputs": [],
      "source": [
        "LEARNING_RATE = 2e-4\n",
        "BATCH_SIZE = 128\n",
        "IMAGE_SIZE = 64\n",
        "CHANNELS_IMG = 3\n",
        "Z_DIM = 100\n",
        "FEATURES_DISC = 64\n",
        "FEATURES_GEN = 64\n",
        "NUM_EPOCHS = 3"
      ]
    },
    {
      "cell_type": "code",
      "execution_count": 12,
      "metadata": {
        "id": "xtvIGbX0wUu-"
      },
      "outputs": [],
      "source": [
        "transforms = transforms.Compose(\n",
        "    [\n",
        "        transforms.Resize(IMAGE_SIZE),\n",
        "        transforms.ToTensor(),\n",
        "        transforms.Normalize(\n",
        "            [0.5 for _ in range(CHANNELS_IMG)], [0.5 for _ in range(CHANNELS_IMG)]\n",
        "        ),\n",
        "    ]\n",
        ")"
      ]
    },
    {
      "cell_type": "code",
      "execution_count": 13,
      "metadata": {
        "colab": {
          "base_uri": "https://localhost:8080/"
        },
        "id": "Xyg1fQFKwnqD",
        "outputId": "bcb75bfd-070b-4a20-e989-31f6b0b341dd"
      },
      "outputs": [],
      "source": [
        "# dataset = datasets.MNIST(root = \"C:/Users/princ/Desktop/Deep Learning/GAN'S/DCGAN/celeb_dataset\", train = True, transform = transforms, download = True)\n",
        "dataset = datasets.ImageFolder(root='celeb_dataset', transform=transforms)\n",
        "loader = DataLoader(dataset, batch_size = BATCH_SIZE, shuffle = True)"
      ]
    },
    {
      "cell_type": "code",
      "execution_count": 14,
      "metadata": {
        "id": "hq-DpbPZySUC"
      },
      "outputs": [],
      "source": [
        "gen = Generator(Z_DIM, CHANNELS_IMG, FEATURES_GEN).to(device)\n",
        "disc = Discriminator(CHANNELS_IMG, FEATURES_DISC).to(device)\n",
        "initialize_weights(gen)\n",
        "initialize_weights(disc)"
      ]
    },
    {
      "cell_type": "code",
      "execution_count": 15,
      "metadata": {
        "id": "BPdALgSNyShU"
      },
      "outputs": [],
      "source": [
        "opt_gen = optim.Adam(gen.parameters(), lr = LEARNING_RATE, betas=(0.5, 0.999))\n",
        "opt_disc = optim.Adam(disc.parameters(), lr = LEARNING_RATE, betas=(0.5, 0.999))\n",
        "criterion = nn.BCELoss()"
      ]
    },
    {
      "cell_type": "code",
      "execution_count": 16,
      "metadata": {
        "id": "IWr2jr6LybTz"
      },
      "outputs": [],
      "source": [
        "fixed_noise = torch.randn(32, Z_DIM, 1, 1).to(device)\n",
        "writer_fake = SummaryWriter(f\"runs/GAN_CELEB/fake\")\n",
        "writer_real = SummaryWriter(f\"runs/GAN_CELEB/real\")\n",
        "step = 0"
      ]
    },
    {
      "cell_type": "code",
      "execution_count": 17,
      "metadata": {
        "colab": {
          "base_uri": "https://localhost:8080/"
        },
        "id": "ftjBntC2yn8a",
        "outputId": "16b1c667-d606-4053-9b0a-bc08ab532ace"
      },
      "outputs": [
        {
          "data": {
            "text/plain": [
              "Discriminator(\n",
              "  (disc): Sequential(\n",
              "    (0): Conv2d(3, 64, kernel_size=(4, 4), stride=(2, 2), padding=(1, 1))\n",
              "    (1): LeakyReLU(negative_slope=0.2)\n",
              "    (2): Sequential(\n",
              "      (0): Conv2d(64, 128, kernel_size=(4, 4), stride=(2, 2), padding=(1, 1), bias=False)\n",
              "      (1): BatchNorm2d(128, eps=1e-05, momentum=0.1, affine=True, track_running_stats=True)\n",
              "      (2): LeakyReLU(negative_slope=0.2)\n",
              "    )\n",
              "    (3): Sequential(\n",
              "      (0): Conv2d(128, 256, kernel_size=(4, 4), stride=(2, 2), padding=(1, 1), bias=False)\n",
              "      (1): BatchNorm2d(256, eps=1e-05, momentum=0.1, affine=True, track_running_stats=True)\n",
              "      (2): LeakyReLU(negative_slope=0.2)\n",
              "    )\n",
              "    (4): Sequential(\n",
              "      (0): Conv2d(256, 512, kernel_size=(4, 4), stride=(2, 2), padding=(1, 1), bias=False)\n",
              "      (1): BatchNorm2d(512, eps=1e-05, momentum=0.1, affine=True, track_running_stats=True)\n",
              "      (2): LeakyReLU(negative_slope=0.2)\n",
              "    )\n",
              "    (5): Conv2d(512, 1, kernel_size=(4, 4), stride=(2, 2))\n",
              "    (6): Sigmoid()\n",
              "  )\n",
              ")"
            ]
          },
          "execution_count": 17,
          "metadata": {},
          "output_type": "execute_result"
        }
      ],
      "source": [
        "gen.train()\n",
        "disc.train()"
      ]
    },
    {
      "cell_type": "code",
      "execution_count": 18,
      "metadata": {
        "colab": {
          "base_uri": "https://localhost:8080/"
        },
        "id": "rZ0f41Tpyw45",
        "outputId": "e1179510-fc4b-49e8-f0b7-f08a35f27460"
      },
      "outputs": [
        {
          "name": "stdout",
          "output_type": "stream",
          "text": [
            "Epoch [0/3] Batch 0/1583           Loss D: 0.6986, loss G: 0.7876\n",
            "Epoch [0/3] Batch 100/1583           Loss D: 0.0161, loss G: 4.0811\n",
            "Epoch [0/3] Batch 200/1583           Loss D: 0.0069, loss G: 4.9380\n",
            "Epoch [0/3] Batch 300/1583           Loss D: 0.0032, loss G: 5.5583\n",
            "Epoch [0/3] Batch 400/1583           Loss D: 0.0019, loss G: 6.0984\n",
            "Epoch [0/3] Batch 500/1583           Loss D: 0.0011, loss G: 6.5998\n",
            "Epoch [0/3] Batch 600/1583           Loss D: 0.0008, loss G: 6.9961\n",
            "Epoch [0/3] Batch 700/1583           Loss D: 0.0006, loss G: 7.3426\n",
            "Epoch [0/3] Batch 800/1583           Loss D: 0.0004, loss G: 7.6467\n",
            "Epoch [0/3] Batch 900/1583           Loss D: 0.0003, loss G: 7.9064\n",
            "Epoch [0/3] Batch 1000/1583           Loss D: 0.0003, loss G: 8.2146\n",
            "Epoch [0/3] Batch 1100/1583           Loss D: 0.0002, loss G: 8.4086\n",
            "Epoch [0/3] Batch 1200/1583           Loss D: 0.0002, loss G: 8.4933\n",
            "Epoch [0/3] Batch 1300/1583           Loss D: 0.0002, loss G: 8.6790\n",
            "Epoch [0/3] Batch 1400/1583           Loss D: 0.0001, loss G: 8.8726\n",
            "Epoch [0/3] Batch 1500/1583           Loss D: 0.0001, loss G: 9.1174\n",
            "Epoch [1/3] Batch 0/1583           Loss D: 0.0001, loss G: 9.2749\n",
            "Epoch [1/3] Batch 100/1583           Loss D: 0.0001, loss G: 9.3829\n",
            "Epoch [1/3] Batch 200/1583           Loss D: 0.0001, loss G: 9.4489\n",
            "Epoch [1/3] Batch 300/1583           Loss D: 0.0001, loss G: 9.5438\n",
            "Epoch [1/3] Batch 400/1583           Loss D: 0.0001, loss G: 9.6577\n",
            "Epoch [1/3] Batch 500/1583           Loss D: 0.0001, loss G: 9.7957\n",
            "Epoch [1/3] Batch 600/1583           Loss D: 0.0001, loss G: 9.8678\n",
            "Epoch [1/3] Batch 700/1583           Loss D: 0.0000, loss G: 9.9842\n",
            "Epoch [1/3] Batch 800/1583           Loss D: 0.0000, loss G: 10.1127\n",
            "Epoch [1/3] Batch 900/1583           Loss D: 0.0000, loss G: 10.2387\n",
            "Epoch [1/3] Batch 1000/1583           Loss D: 0.0000, loss G: 10.3392\n",
            "Epoch [1/3] Batch 1100/1583           Loss D: 0.0000, loss G: 10.4218\n",
            "Epoch [1/3] Batch 1200/1583           Loss D: 0.0000, loss G: 10.4938\n",
            "Epoch [1/3] Batch 1300/1583           Loss D: 0.0000, loss G: 10.4619\n",
            "Epoch [1/3] Batch 1400/1583           Loss D: 0.0000, loss G: 10.5346\n",
            "Epoch [1/3] Batch 1500/1583           Loss D: 0.0000, loss G: 10.6819\n",
            "Epoch [2/3] Batch 0/1583           Loss D: 0.0000, loss G: 10.8071\n",
            "Epoch [2/3] Batch 100/1583           Loss D: 0.0000, loss G: 10.9258\n",
            "Epoch [2/3] Batch 200/1583           Loss D: 0.0000, loss G: 11.0406\n",
            "Epoch [2/3] Batch 300/1583           Loss D: 0.0000, loss G: 11.1360\n",
            "Epoch [2/3] Batch 400/1583           Loss D: 0.0000, loss G: 11.2194\n",
            "Epoch [2/3] Batch 500/1583           Loss D: 0.0000, loss G: 11.2969\n",
            "Epoch [2/3] Batch 600/1583           Loss D: 0.0000, loss G: 11.3538\n",
            "Epoch [2/3] Batch 700/1583           Loss D: 0.0000, loss G: 11.4143\n",
            "Epoch [2/3] Batch 800/1583           Loss D: 0.0000, loss G: 11.4743\n",
            "Epoch [2/3] Batch 900/1583           Loss D: 0.0000, loss G: 11.5459\n",
            "Epoch [2/3] Batch 1000/1583           Loss D: 0.0000, loss G: 11.6148\n",
            "Epoch [2/3] Batch 1100/1583           Loss D: 0.0000, loss G: 11.6508\n",
            "Epoch [2/3] Batch 1200/1583           Loss D: 0.0000, loss G: 11.7127\n",
            "Epoch [2/3] Batch 1300/1583           Loss D: 0.0000, loss G: 11.7842\n",
            "Epoch [2/3] Batch 1400/1583           Loss D: 0.0000, loss G: 11.8404\n",
            "Epoch [2/3] Batch 1500/1583           Loss D: 0.0000, loss G: 11.9068\n"
          ]
        }
      ],
      "source": [
        "for epoch in range(NUM_EPOCHS):\n",
        "  for batch_idx, (real, _) in enumerate(loader):\n",
        "    real = real.to(device)\n",
        "    noise = torch.randn((BATCH_SIZE, Z_DIM, 1, 1)).to(device)\n",
        "    fake = gen(noise)\n",
        "\n",
        "    disc_real = disc(real).reshape(-1)\n",
        "    loss_disc_real = criterion(disc_real, torch.ones_like(disc_real))\n",
        "    disc_fake = disc(fake).reshape(-1)\n",
        "    loss_disc_fake = criterion(disc_fake, torch.zeros_like(disc_fake))\n",
        "    loss_disc = (loss_disc_real + loss_disc_fake) / 2\n",
        "    disc.zero_grad()\n",
        "    loss_disc.backward(retain_graph = True)\n",
        "    opt_disc.step()\n",
        "\n",
        "    output = disc(fake).reshape(-1)\n",
        "\n",
        "    loss_gen = criterion(output, torch.ones_like(output))\n",
        "    gen.zero_grad()\n",
        "    loss_gen.backward()\n",
        "    opt_gen.step()\n",
        "\n",
        "    if batch_idx % 100 == 0:\n",
        "      print(\n",
        "          f\"Epoch [{epoch}/{NUM_EPOCHS}] Batch {batch_idx}/{len(loader)} \\\n",
        "          Loss D: {loss_disc:.4f}, loss G: {loss_gen:.4f}\"\n",
        "      )\n",
        "\n",
        "      with torch.no_grad():\n",
        "        fake = gen(fixed_noise)\n",
        "        img_grid_fake = torchvision.utils.make_grid(fake, normalize = True)\n",
        "        img_grid_real = torchvision.utils.make_grid(real, normalize = True)\n",
        "        writer_fake.add_image(\n",
        "            \"Fake Images\", img_grid_fake, global_step = step\n",
        "        )\n",
        "        writer_real.add_image(\n",
        "            \"Real Images\", img_grid_real, global_step = step\n",
        "        )\n",
        "        step += 1"
      ]
    },
    {
      "cell_type": "code",
      "execution_count": null,
      "metadata": {},
      "outputs": [],
      "source": []
    }
  ],
  "metadata": {
    "accelerator": "GPU",
    "colab": {
      "gpuType": "T4",
      "provenance": []
    },
    "kernelspec": {
      "display_name": "Python 3",
      "name": "python3"
    },
    "language_info": {
      "codemirror_mode": {
        "name": "ipython",
        "version": 3
      },
      "file_extension": ".py",
      "mimetype": "text/x-python",
      "name": "python",
      "nbconvert_exporter": "python",
      "pygments_lexer": "ipython3",
      "version": "3.10.6"
    }
  },
  "nbformat": 4,
  "nbformat_minor": 0
}
